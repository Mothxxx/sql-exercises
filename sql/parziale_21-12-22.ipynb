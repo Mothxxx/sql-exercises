{
 "cells": [
  {
   "cell_type": "markdown",
   "metadata": {},
   "source": [
    "Esercizio 1 "
   ]
  },
  {
   "cell_type": "markdown",
   "metadata": {},
   "source": [
    "CONDOMINIO (Codice, Via, Ncivico, Comune, NumPiani, Amministratore)  \n",
    "APPARTAMENTO (Condominio, NroProg, Piano, Nvani, MQ)   \n",
    "PERSONA (CF, Cognome, Nome, ComuneResidenza)   \n",
    "PROPRIETÀ (CF, Condominio, NroApp, Percentuale, DataInizio)   \n",
    "COMUNE (Nome, Via, NAbitanti)  \n",
    "\n"
   ]
  },
  {
   "cell_type": "markdown",
   "metadata": {},
   "source": [
    "• Comune di CONDOMINIO e ComuneResidenza di PERSONA riferiscono entrambi Nome di COMUNE  \n",
    "• Condominio di APPARTAMENTO riferisce Codice di CONDOMINIO  \n",
    "• CF di PROPRIETÀ e Amministratore di CONDOMINIO riferiscono entrambi CF di PERSONA  \n",
    "• (Condominio, NroApp) di PROPRIETÀ riferisce (Condominio, NroProg) di APPARTAMENTO  \n"
   ]
  },
  {
   "cell_type": "markdown",
   "metadata": {},
   "source": [
    "Scrivere le interrogazioni SQL che permettono di determinare  \n",
    "1.\tLe persone di Roma che hanno (almeno) un appartamento a Pescara.  \n",
    "2.\tGli appartamenti del condominio ‘C01’ che hanno un unico proprietario, con indicazione di tutte le informazioni sul loro proprietario.  \n",
    "3.\tI condomini in cui ci sono almeno 10 appartamenti ed almeno 20 proprietari distinti.   \n",
    "4.\tPer ogni città, i condomini con almeno 10 piani situati in tale città, mantenendo nel risultato anche le città per cui non presenti condomini con almeno 10 piani  \n",
    "5.\t(OPZIONALE) Trovare le persone che sono amministratore di almeno un condominio in tutti i comuni   \n"
   ]
  },
  {
   "cell_type": "code",
   "execution_count": null,
   "metadata": {
    "vscode": {
     "languageId": "sql"
    }
   },
   "outputs": [],
   "source": [
    "-- 1 - Le persone di Roma che hanno (almeno) un appartamento a Pescara.\n",
    "SELECT DISTINCT p.CF, p.Cognome, p.Nome\n",
    "FROM PERSONA p\n",
    "JOIN PROPRIETA prop ON p.CF = prop.CF\n",
    "JOIN APPARTAMENTO a ON prop.Condominio = a.Condominio AND prop.NroApp = a.NroProg\n",
    "JOIN CONDOMINIO c ON  a.Condominio = c.Codice\n",
    "WHERE p.ComuneResidenza = 'Roma' AND c.Comune = 'Pescara';"
   ]
  },
  {
   "cell_type": "code",
   "execution_count": null,
   "metadata": {
    "vscode": {
     "languageId": "sql"
    }
   },
   "outputs": [],
   "source": [
    "-- 2 - Gli appartamenti del condominio ‘C01’ che hanno un unico proprietario, \n",
    "--     con indicazione di tutte le informazioni sul loro proprietario.  \n",
    "SELECT a.*, p.CF, p.Cognome, p.Nome\n",
    "FROM APPARTAMENTO a \n",
    "JOIN PROPRIETA prop ON a.Condominio = prop.Condominio AND  a.NroProg = prop.NroApp\n",
    "JOIN PERSONA p ON prop.CF = p.CF \n",
    "WHERE a.Condominio = 'C01'\n",
    "GROUP BY a.Condominio, a.NroProg, p.CF, p.Cognome, p.Nome\n",
    "HAVING COUNT(*) = 1;"
   ]
  },
  {
   "cell_type": "code",
   "execution_count": null,
   "metadata": {
    "vscode": {
     "languageId": "sql"
    }
   },
   "outputs": [],
   "source": [
    " -- 3 - I condomini in cui ci sono almeno 10 appartamenti ed almeno 20 proprietari distinti.  \n",
    "SELECT c.Codice, c.Via, c.Ncivico, c.Comune \n",
    "FROM CONDOMINIO c \n",
    "JOIN APPARTAMENTO a ON c.Codice = a.Condominio\n",
    "JOIN PROPRIETA prop ON c.Codice = prop.Condominio\n",
    "GROUP BY c.Codice, c.Via, c.Ncivico, c.Comune\n",
    "HAVING COUNT(DISTINCT a.NroProg) >= 10 AND COUNT(DISTINCT prop.CF) >= 20;"
   ]
  },
  {
   "cell_type": "code",
   "execution_count": null,
   "metadata": {
    "vscode": {
     "languageId": "sql"
    }
   },
   "outputs": [],
   "source": [
    "SELECT cm.Nome AS Città, c.Codice AS Condominio\n",
    "FROM COMUNE cm\n",
    "LEFT JOIN CONDOMINIO c ON cm.Nome = c.Comune AND c.NumPiani >= 10;\n"
   ]
  },
  {
   "cell_type": "code",
   "execution_count": null,
   "metadata": {
    "vscode": {
     "languageId": "sql"
    }
   },
   "outputs": [],
   "source": [
    "SELECT p.CF, p.Cognome, p.Nome\n",
    "FROM PERSONA p\n",
    "JOIN CONDOMINIO c ON p.CF = c.Amministratore\n",
    "GROUP BY p.CF, p.Cognome, p.Nome\n",
    "HAVING COUNT(DISTINCT c.Comune) = (SELECT COUNT(*) FROM COMUNE);\n"
   ]
  },
  {
   "cell_type": "code",
   "execution_count": null,
   "metadata": {
    "vscode": {
     "languageId": "sql"
    }
   },
   "outputs": [],
   "source": [
    "-- Creazione  delle tabelle \n",
    "CREATE TABLE COMUNE (\n",
    "    Nome VARCHAR(50) PRIMARY KEY,\n",
    "    Via VARCHAR(100),\n",
    "    NAbitanti INT\n",
    ");\n",
    "\n",
    "CREATE TABLE PERSONA (\n",
    "    CF CHAR(16) PRIMARY KEY,\n",
    "    Cognome VARCHAR(50),\n",
    "    Nome VARCHAR(50),\n",
    "    ComuneResidenza VARCHAR(50),\n",
    "    FOREIGN KEY (ComuneResidenza) REFERENCES COMUNE(Nome)\n",
    ");\n",
    "\n",
    "\n",
    "CREATE TABLE CONDOMINIO (\n",
    "    Codice CHAR(5) PRIMARY KEY,\n",
    "    Via VARCHAR(100),\n",
    "    Ncivico INT,\n",
    "    Comune VARCHAR(50),\n",
    "    NumPiani INT,\n",
    "    Amministratore CHAR(16),\n",
    "    FOREIGN KEY (Comune) REFERENCES COMUNE(Nome),\n",
    "    FOREIGN KEY (Amministratore) REFERENCES PERSONA(CF)\n",
    "\n",
    "\n",
    ");\n",
    "\n",
    "CREATE TABLE APPARTAMENTO (\n",
    "    Condominio CHAR(5),\n",
    "    NroProg INT,\n",
    "    Piano INT,\n",
    "    Nvani INT,\n",
    "    MQ INT,\n",
    "    PRIMARY KEY (Condominio, NroProg),\n",
    "    FOREIGN KEY (Condominio) REFERENCES CONDOMINIO(Codice)\n",
    ");\n",
    "\n",
    "CREATE TABLE PROPRIETA (\n",
    "    CF CHAR(16),\n",
    "    Condominio CHAR(5),\n",
    "    NroApp INT,\n",
    "    Percentuale DECIMAL(5,2),\n",
    "    DataInizio DATE,\n",
    "    PRIMARY KEY (CF, Condominio, NroApp),\n",
    "    FOREIGN KEY (CF) REFERENCES PERSONA(CF),\n",
    "    FOREIGN KEY (Condominio, NroApp) REFERENCES APPARTAMENTO(Condominio, NroProg)\n",
    ");"
   ]
  },
  {
   "cell_type": "code",
   "execution_count": null,
   "metadata": {
    "vscode": {
     "languageId": "sql"
    }
   },
   "outputs": [],
   "source": [
    "-- LEFT JOIN\n",
    "SELECT a.targa, a.marca, a.modello, g.nome, g.cognome\n",
    "FROM automobile a\n",
    "LEFT JOIN Guidatore g \n",
    "ON a.guidatore = g.nroPatente;"
   ]
  },
  {
   "cell_type": "code",
   "execution_count": null,
   "metadata": {
    "vscode": {
     "languageId": "sql"
    }
   },
   "outputs": [],
   "source": [
    "-- RIGHT JOIN\n",
    "SELECT a.targa, a.marca, a.modello, g.nome, g.cognome\n",
    "FROM Automobile a\n",
    "RIGHT JOIN Guidatore g\n",
    "ON a.guidatore = g.nroPatente;"
   ]
  },
  {
   "cell_type": "code",
   "execution_count": null,
   "metadata": {
    "vscode": {
     "languageId": "sql"
    }
   },
   "outputs": [],
   "source": [
    "-- FULL OUTER JOIN\n",
    "SELECT a.targa, a.marca, a.modello, g.nome, g.cognome\n",
    "FROM Automobile a\n",
    "FULL OUTER JOIN Guidatore g\n",
    "ON a.guidatore = g.nroPatente;\n"
   ]
  },
  {
   "cell_type": "code",
   "execution_count": null,
   "metadata": {
    "vscode": {
     "languageId": "sql"
    }
   },
   "outputs": [],
   "source": [
    "-- su mariadb il  full outer join non è supportato quindi  bisogna unire il left + il right.\n",
    "SELECT a.targa, a.marca, a.modello, g.nome, g.cognome\n",
    "FROM Automobile a\n",
    "LEFT JOIN Guidatore g\n",
    "ON a.guidatore = g.nroPatente\n",
    "UNION\n",
    "SELECT a.targa, a.marca, a.modello, g.nome, g.cognome\n",
    "FROM Automobile a\n",
    "RIGHT JOIN Guidatore g\n",
    "ON a.guidatore = g.nroPatente;\n"
   ]
  },
  {
   "cell_type": "code",
   "execution_count": null,
   "metadata": {
    "vscode": {
     "languageId": "sql"
    }
   },
   "outputs": [],
   "source": [
    "-- NTURAL JOIN \n",
    "SELECT a.targa, a.marca, a.modello, a.guidatore\n",
    "FROM Automobile a\n",
    "NATURAL JOIN Automobile1;"
   ]
  },
  {
   "cell_type": "markdown",
   "metadata": {},
   "source": [
    "Esercitazione 2024-12 dal pdf. della prof:\n",
    "https://fad.unich.it/pluginfile.php/347057/mod_resource/content/2/2024-12-XXEsecitazioneSQL.pdf.fv cgdr"
   ]
  },
  {
   "cell_type": "code",
   "execution_count": 1,
   "metadata": {
    "vscode": {
     "languageId": "sql"
    }
   },
   "outputs": [
    {
     "ename": "SyntaxError",
     "evalue": "invalid syntax (3881921383.py, line 1)",
     "output_type": "error",
     "traceback": [
      "\u001b[0;36m  Cell \u001b[0;32mIn[1], line 1\u001b[0;36m\u001b[0m\n\u001b[0;31m    create table AEROPORTO\u001b[0m\n\u001b[0m           ^\u001b[0m\n\u001b[0;31mSyntaxError\u001b[0m\u001b[0;31m:\u001b[0m invalid syntax\n"
     ]
    }
   ],
   "source": [
    "create table AEROPORTO\n",
    "(Città varchar(20) primary key,\n",
    "Nazione varchar(20) not null,\n",
    "NumPiste integer);\n",
    "\n",
    "create table VOLO (IdVolo char(6),\n",
    "GiornoSett enum('lunedì', 'martedì', 'mercoledì', 'giovedì', 'venerdì', 'sabato', 'domenica'),\n",
    "CittàPart varchar(20) not null references AEROPORTO(Città),\n",
    "OraPart time not null,\n",
    "CittàArr varchar(20) not null references AEROPORTO(Città),\n",
    "OraArr time not null,\n",
    "TipoAereo char(20) references AEREO(TipoAereo),\n",
    "primary key(IdVolo, GiornoSett));\n",
    "\n",
    "create table AEREO (\n",
    "TipoAereo char(20) primary key,\n",
    "QtaMerci float,\n",
    "NumPasseggeri smallint not null);"
   ]
  },
  {
   "cell_type": "markdown",
   "metadata": {},
   "source": [
    "Scrivere in sql le interrogazioni che permettono di determinare:\n",
    "1. Le città  con un  areporto di cui non è noto il numero di piste;\n",
    "2. Le nazioni  da cui parte  e arriva il volo con codice AZ274;\n",
    "3. I tipi i aereo usati nei voli che partono da Torino.\n",
    "4. I  tipi  di aereo e il corrispondente numero di passeggeri per i tipi i aereo usati nei voli che partono da Torino.\n",
    "5. Le città da cui prtono voli internazionali;\n",
    "6. Le città da cui partono voli diretti a Bologna, ordinate alfabeicamente;\n",
    "7. Il numero di voli internazionali che partono il giovedì da Napoli;\n",
    "8. Il numeori di voli  internazionali che partono ogni settimana da città italane (farlo in due modi, facendo comparire o meno nel risultato gli aereoporti senza voli internazionli);\n",
    "9. Le città francesi da cui partono più di 20 voli alla settimana iretti in italia.\n",
    "10. Gli areoporti italiani che hanno solo voli interni. Rappresrntare questa interrogazione in più modi:\n",
    "    - con operatori insiemistici \n",
    "    - con una intrrogazione nidificata con l'operatore not in;\n",
    "11. Le città che sono  servite daal'aereo caratterizzato dal massimo numero di passeggeri."
   ]
  },
  {
   "cell_type": "code",
   "execution_count": null,
   "metadata": {
    "vscode": {
     "languageId": "sql"
    }
   },
   "outputs": [],
   "source": [
    "-- 1.  Le città  con un  areporto di cui non è noto il numero di piste;\n",
    "select città \n",
    "from aereoporto\n",
    "where NumPiste is null;"
   ]
  },
  {
   "cell_type": "code",
   "execution_count": null,
   "metadata": {
    "vscode": {
     "languageId": "sql"
    }
   },
   "outputs": [],
   "source": [
    "-- 2. Le nazioni  da cui parte  e arriva il volo con codice AZ274;\n",
    "--    Per identificare le nazioni di partenza e arrivo del volo AZ274, \n",
    "--    dobbiamo effettuare un join tra VOLO e AEROPORTO due volte (una per la città di partenza e una per quella di arrivo):\n",
    "select distinct a1.nazione as nazionePartenza, a2.nazione as nazioneArrivo\n",
    "from volo v\n",
    "join aeroporto a1 on v.CittàPart = a1.città\n",
    "join aeroporto a2 on v.CittàArr = a2.città\n",
    "where v.IdVolo = 'AZ274';"
   ]
  },
  {
   "cell_type": "code",
   "execution_count": null,
   "metadata": {
    "vscode": {
     "languageId": "sql"
    }
   },
   "outputs": [],
   "source": [
    "-- 3. I tipi i aereo usati nei voli che partono da Torino.\n",
    "--    L’operatore DISTINCT viene usato per eliminare i duplicati dai risultati di una query.\n",
    "select distinct v.TipoAereo\n",
    "from volo v \n",
    "where v.CittàPart = 'Torino'; "
   ]
  },
  {
   "cell_type": "code",
   "execution_count": null,
   "metadata": {
    "vscode": {
     "languageId": "sql"
    }
   },
   "outputs": [],
   "source": [
    "-- 4. I tipi di aereo e il corrispondente numero di passeggeri per \n",
    "--    i tipi i aereo usati nei voli che partono da Torino.\n",
    "select distinct a.TipoAereo, a.NumPasseggeri\n",
    "from volo v \n",
    "JOIN aereo a on v.TipoAereo = a.TipoAereo\n",
    "where v.CittàPart = 'Torino';"
   ]
  },
  {
   "cell_type": "code",
   "execution_count": null,
   "metadata": {
    "vscode": {
     "languageId": "sql"
    }
   },
   "outputs": [],
   "source": [
    "-- 5. Le città da cui prtono voli internazionali;\n",
    "select distinct a1.Città\n",
    "from volo v \n",
    "join aeroporto a1 on v.CittàPart = a1.Città -- collegamento per la città di partenza \n",
    "join aeroporto a2 on v.CittàArr = a2.Città -- collegamento per la città di arrivo\n",
    "where a1.Nazione <> a2.Nazione;"
   ]
  },
  {
   "cell_type": "code",
   "execution_count": null,
   "metadata": {
    "vscode": {
     "languageId": "sql"
    }
   },
   "outputs": [],
   "source": [
    "-- 6. Le città da cui partono voli diretti a Bologna, ordinate alfabeicamente;\n",
    "select distinct CittàPart\n",
    "from volo\n",
    "where CittàArriv = 'Bologna'\n",
    "order by CittàPart;"
   ]
  },
  {
   "cell_type": "code",
   "execution_count": null,
   "metadata": {
    "vscode": {
     "languageId": "sql"
    }
   },
   "outputs": [],
   "source": [
    "-- 7. Il numero di voli internazionali che partono il giovedì da Napoli;\n",
    "select count(*) as NumVoliInternazionali\n",
    "from volo v \n",
    "join aeroporto a1 on v.CittàPart = a1.Città -- collegamento per la città di partenza \n",
    "join aeroporto a2 on v.CittàArr = a2.Città \n",
    "where a1.Città = 'Napoli'\n",
    "    and v.GiornoSett = 'giovedì'\n",
    "    and a1.Nazione <> a2.Nazione;"
   ]
  },
  {
   "cell_type": "code",
   "execution_count": null,
   "metadata": {
    "vscode": {
     "languageId": "sql"
    }
   },
   "outputs": [],
   "source": [
    "select count(*) as NumVoliInternazionali\n",
    "from volo v, aeroporto a1,  aeroporto a2\n",
    "where a1.Città = v.cittàPart and v.CittàArr = a2.Città  -- le condizioni di join naturale esplicite nel where\n",
    "    and a1.Città = 'Napoli'\n",
    "    and v.GiornoSett = 'giovedì'\n",
    "    and a1.Nazione <> a2.Nazione;\n",
    " -- invece join"
   ]
  },
  {
   "cell_type": "code",
   "execution_count": null,
   "metadata": {
    "vscode": {
     "languageId": "sql"
    }
   },
   "outputs": [],
   "source": [
    "-- 8.a Il numeori di voli  internazionali che partono ogni settimana da città italane \n",
    "-- non facendo comparire nel risultato gli aereoporti senza voli internazionli;\n",
    "SELECT A1.Città, COUNT(*) AS NumVoliInternazionali\n",
    "FROM VOLO V, AEROPORTO A1,  AEROPORTO A2 \n",
    "JOIN AEROPORTO A1 ON V.CittàPart = a1.Città\n",
    "JOIN AEROPORTO A2 ON V.CittàArr = a2.Città\n",
    "WHERE A1.Nazione = 'Italia'\n",
    "    AND A1.Nazione <> A2.Nazione\n",
    "GROUP BY A1.Città;"
   ]
  },
  {
   "cell_type": "code",
   "execution_count": null,
   "metadata": {
    "vscode": {
     "languageId": "sql"
    }
   },
   "outputs": [],
   "source": [
    "-- 8b. Il numeori di voli  internazionali che partono ogni settimana da città italane \n",
    "-- facendo comparire nel risultato gli aereoporti senza voli internazionli;\n",
    "SELECT A1.Città, COUNT(V.IdVolo) AS NumVoliInternazionali\n",
    "FROM AEROPORTO A1\n",
    "JOIN VOLO V ON V.CittàPart = a1.Città\n",
    "JOIN AEROPORTO A2 ON V.CittàArr = a2.Città\n",
    "WHERE A1.Nazione = 'Italia'\n",
    "    AND (A1.Nazione IS NULL OR A1.Nazione <> A2.Nazione)\n",
    "GROUP BY A1.Città;"
   ]
  },
  {
   "cell_type": "code",
   "execution_count": null,
   "metadata": {
    "vscode": {
     "languageId": "sql"
    }
   },
   "outputs": [],
   "source": [
    "-- Per vedere i voli associati a ogni città italiana, puoi utilizzare una query con JOIN per collegare la tabella AEROPORTO con VOLO\n",
    "select a.Città as CittàPartenza, v.IdVolo, v.GiornoSett, v.CittàArr, v.OraPart, v.OraArr\n",
    "from aeroporto a\n",
    "join volo v on a.Città = v.CittàPart\n",
    "where a.nazione='Italia';"
   ]
  },
  {
   "cell_type": "code",
   "execution_count": null,
   "metadata": {
    "vscode": {
     "languageId": "sql"
    }
   },
   "outputs": [],
   "source": [
    "-- 9. Le città francesi da cui partono più di 20 voli alla settimana diretti in italia\n",
    "SELECT A1.Città, COUNT(*) AS NumVoli\n",
    "FROM VOLO V\n",
    "JOIN AEROPORTO A1 ON V.CittàPart = A1.Città\n",
    "JOIN AEROPORTO A2 ON V.CittàArr = A1.Città\n",
    "WHERE A1.Nazione = 'Frnacia'\n",
    "    AND A2.Nazione = 'Italia'\n",
    "GROUP BY A1.Città\n",
    "HAVING COUNT(*) > 20;"
   ]
  },
  {
   "cell_type": "code",
   "execution_count": null,
   "metadata": {
    "vscode": {
     "languageId": "sql"
    }
   },
   "outputs": [],
   "source": [
    "-- 10a. Gli areoporti italiani che hanno solo voli interni. Rappresrntare questa interrogazione in più modi:\n",
    "    -- con operatori insiemistici;\n",
    "\n",
    "-- insieme degli aeroporti italiani\n",
    "SELECT Città \n",
    "FROM AEROPORTO\n",
    "WHERE Nazione = 'Italia'\n",
    "EXCEPT\n",
    "-- insieme degli aeroporti italiani con voli internazionali ADD\n",
    "SELECT DISTINCT a.Città\n",
    "FROM AEROPORTO a \n",
    "JOIN VOLO V ON a.Città = v.CittàPart\n",
    "WHERE a.Nazione = 'Italia' AND v.CittàArr NOT IN (SELECT Città FROM AEROPORTO WHERE Nazione = 'Italia');"
   ]
  },
  {
   "cell_type": "code",
   "execution_count": null,
   "metadata": {
    "vscode": {
     "languageId": "sql"
    }
   },
   "outputs": [],
   "source": [
    "-- 10b. Gli areoporti italiani che hanno solo voli interni. Rappresrntare questa interrogazione in più modi:\n",
    "    -- con una intrrogazione nidificata con l'operatore not in;\n",
    "\n",
    "SELECT a.Città\n",
    "FROM AEROPORTO a\n",
    "WHERE a.Nazione = 'Italia'\n",
    "AND a.Città NOT IN (\n",
    "    SELECT DISTINCT v.CittàPart\n",
    "    FROM VOLO v\n",
    "    WHERE v.CittàArr NOT IN (SELECT Città FROM AEROPORTO WHERE Nazione = 'Italia')\n",
    ");"
   ]
  },
  {
   "cell_type": "code",
   "execution_count": null,
   "metadata": {
    "vscode": {
     "languageId": "sql"
    }
   },
   "outputs": [],
   "source": [
    "-- 11. Le città che sono  servite dall'aereo caratterizzato dal massimo numero di passeggeri.\n",
    "SELECT TipoAereo\n",
    "FROM AEREO\n",
    "WHERE NumPasseggeri = (SELECT MAX(NumPasseggeri) FROM AEREO);"
   ]
  },
  {
   "cell_type": "code",
   "execution_count": null,
   "metadata": {
    "vscode": {
     "languageId": "sql"
    }
   },
   "outputs": [],
   "source": [
    "SELECT DISTINCT a.Città\n",
    "FROM AEROPORTO a\n",
    "JOIN VOLO v ON a.Città = v.CittàPart OR a.Città = v.CittàArr\n",
    "WHERE v.TipoAereo = (\n",
    "    SELECT TipoAereo\n",
    "    FROM AEREO\n",
    "    WHERE NumPasseggeri = (SELECT MAX(NumPasseggeri) FROM AEREO)\n",
    ");"
   ]
  },
  {
   "cell_type": "markdown",
   "metadata": {},
   "source": [
    "Eserci"
   ]
  },
  {
   "cell_type": "code",
   "execution_count": null,
   "metadata": {
    "vscode": {
     "languageId": "sql"
    }
   },
   "outputs": [],
   "source": []
  }
 ],
 "metadata": {
  "kernelspec": {
   "display_name": "Python 3",
   "language": "python",
   "name": "python3"
  },
  "language_info": {
   "codemirror_mode": {
    "name": "ipython",
    "version": 3
   },
   "file_extension": ".py",
   "mimetype": "text/x-python",
   "name": "python",
   "nbconvert_exporter": "python",
   "pygments_lexer": "ipython3",
   "version": "3.12.6"
  }
 },
 "nbformat": 4,
 "nbformat_minor": 2
}

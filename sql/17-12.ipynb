{
 "cells": [
  {
   "cell_type": "code",
   "execution_count": 1,
   "id": "864b2437",
   "metadata": {},
   "outputs": [],
   "source": [
    "# Carica l'estensione SQL\n",
    "%load_ext sql\n"
   ]
  },
  {
   "cell_type": "code",
   "execution_count": null,
   "id": "d62eec1f",
   "metadata": {},
   "outputs": [],
   "source": [
    "# Connessione al database (sostituisci con il tuo Database)\n",
    "%sql sqlite:///mio_database.db"
   ]
  },
  {
   "cell_type": "markdown",
   "id": "ffb3f493",
   "metadata": {},
   "source": [
    "# Esercizio parziale 2022"
   ]
  },
  {
   "cell_type": "code",
   "execution_count": null,
   "id": "3825a6f6",
   "metadata": {},
   "outputs": [],
   "source": []
  },
  {
   "cell_type": "markdown",
   "id": "2f05c4bf",
   "metadata": {},
   "source": [
    "Esercizio 1  \n",
    "CONDOMINIO (Codice, Via, Ncivico, Comune, NumPiani, Amministratore)  \n",
    "APPARTAMENTO (<u>Condominio, NroProg</u>, Piano, Nvani, MQ)  \n",
    "PERSONA (CF, Cognome, Nome, ComuneResidenza)  \n",
    "PROPRIETÀ (CF, Condominio, NroApp, Percentuale, DataInizio)  \n",
    "COMUNE (Nome, Via, NAbitanti)  "
   ]
  },
  {
   "cell_type": "markdown",
   "id": "7a966a38",
   "metadata": {},
   "source": [
    "dove\n",
    "•\tComune di CONDOMINIO e ComuneResidenza di PERSONA riferiscono entrambi Nome di COMUNE\n",
    "•\tCondominio di APPARTAMENTO riferisce Codice di CONDOMINIO\n",
    "•\tCF di PROPRIETÀ e Amministratore di CONDOMINIO riferiscono entrambi CF di PERSONA\n",
    "•\t(Condominio, NroApp) di PROPRIETÀ riferisce (Condominio, NroProg) di APPARTAMENTO.\n"
   ]
  },
  {
   "cell_type": "code",
   "execution_count": null,
   "id": "893ef69e",
   "metadata": {},
   "outputs": [],
   "source": [
    "%%sql\n",
    "create schema query_sql;\n",
    "\n",
    "use query_sql\n",
    "\n",
    "CREATE TABLE COMUNE (\n",
    "    Nome VARCHAR(100),\n",
    "    Via VARCHAR(100),\n",
    "    NAbitanti INT,\n",
    "    PRIMARY KEY (Nome)\n",
    ");\n",
    "\n",
    "CREATE TABLE PERSONA (\n",
    "    CF VARCHAR(16) PRIMARY KEY,\n",
    "    Cognome VARCHAR(50),\n",
    "    Nome VARCHAR(50),\n",
    "    ComuneResidenza VARCHAR(100),\n",
    "    FOREIGN KEY (ComuneResidenza) REFERENCES COMUNE(Nome)\n",
    ");\n",
    "\n",
    "CREATE TABLE CONDOMINIO (\n",
    "    Codice CHAR(10),\n",
    "    Via VARCHAR(100),\n",
    "    Ncivico INT,\n",
    "    Comune VARCHAR(100),\n",
    "    NumPiani INT,\n",
    "    Amministratore CHAR(16),\n",
    "    PRIMARY KEY (Codice),\n",
    "    FOREIGN KEY (Comune) REFERENCES COMUNE(Nome),\n",
    "    FOREIGN KEY (Amministratore) REFERENCES PERSONA(CF)\n",
    ");\n",
    "\n",
    "CREATE TABLE APPARTAMENTO (\n",
    "    Condominio VARCHAR(10),\n",
    "    NroProg INT,\n",
    "    Piano INT,\n",
    "    Nvani INT,\n",
    "    MQ INT,\n",
    "    PRIMARY KEY (Condominio, NroProg),\n",
    "    FOREIGN KEY (Condominio) REFERENCES CONDOMINIO(Codice)\n",
    ");\n",
    "\n",
    "\n",
    "SELECT* from appartamento;\n",
    "\n",
    "CREATE TABLE PROPRIETA (\n",
    "    CF VARCHAR(16),\n",
    "    Condominio VARCHAR(10),\n",
    "    NroApp INT,\n",
    "    Percentuale DECIMAL(5, 2),\n",
    "    DataInizio DATE,\n",
    "    PRIMARY KEY (CF, Condominio, NroApp),\n",
    "    FOREIGN KEY (CF) REFERENCES PERSONA(CF),\n",
    "    FOREIGN KEY (Condominio,NroApp) REFERENCES APPARTAMENTO(Condominio, NroProg)\n",
    ");\n",
    "\n",
    "INSERT INTO COMUNE (Nome, Via, NAbitanti) VALUES\n",
    "('Roma', 'Via del Corso', 2800000),\n",
    "('Milano', 'Corso Buenos Aires', 1300000),\n",
    "('Napoli', 'Via Toledo', 1000000),\n",
    "('Torino', 'Corso Francia', 900000),\n",
    "('Bologna', 'Via Indipendenza', 390000);\n",
    "\n",
    "INSERT INTO PERSONA (CF, Cognome, Nome, ComuneResidenza) VALUES\n",
    "('RSSMRA85M01H501Z', 'Rossi', 'Mario', 'Roma'),\n",
    "('BNCLCU80A01F205X', 'Bianchi', 'Luigi', 'Milano'),\n",
    "('VERLRI90R01H501A', 'Verdi', 'Giuseppe', 'Napoli'),\n",
    "('ZANLND70B01L219C', 'Zani', 'Andrea', 'Torino'),\n",
    "('GALLGI88P01L219D', 'Gallo', 'Francesca', 'Bologna');\n",
    "\n",
    "INSERT INTO CONDOMINIO (Codice, Via, Ncivico, Comune, NumPiani, Amministratore) VALUES\n",
    "('C001', 'Via Roma', 12, 'Roma', 5, 'RSSMRA85M01H501Z'),\n",
    "('C002', 'Corso Buenos Aires', 15, 'Milano', 6, 'BNCLCU80A01F205X'),\n",
    "('C003', 'Via Toledo', 20, 'Napoli', 4, 'VERLRI90R01H501A'),\n",
    "('C004', 'Corso Francia', 45, 'Torino', 7, 'ZANLND70B01L219C'),\n",
    "('C005', 'Via Indipendenza', 9, 'Bologna', 3, 'GALLGI88P01L219D');\n",
    "\n",
    "INSERT INTO APPARTAMENTO (Condominio, NroProg, Piano, Nvani, MQ) VALUES\n",
    "('C001', 1, 1, 4, 80),\n",
    "('C001', 2, 2, 3, 75),\n",
    "('C002', 1, 3, 5, 120),\n",
    "('C003', 1, 1, 2, 55),\n",
    "('C004', 1, 5, 3, 95);\n",
    "\n",
    "INSERT INTO PROPRIETA (CF, Condominio, NroApp, Percentuale, DataInizio) VALUES\n",
    "('RSSMRA85M01H501Z', 'C001', 1, 50.00, '2020-01-01'),\n",
    "('BNCLCU80A01F205X', 'C001', 2, 100.00, '2019-06-15'),\n",
    "('VERLRI90R01H501A', 'C002', 1, 75.00, '2021-03-10'),\n",
    "('ZANLND70B01L219C', 'C003', 1, 60.00, '2020-11-22'),\n",
    "('GALLGI88P01L219D', 'C004', 1, 100.00, '2022-02-28');\n",
    "\n",
    "select * from proprieta\n",
    "\n",
    "select * from condominio\n",
    "\n",
    "select * from appartamento\n",
    "\n",
    "select * from comune\n",
    "\n",
    "select * from persona\n"
   ]
  },
  {
   "cell_type": "markdown",
   "id": "46206743",
   "metadata": {},
   "source": [
    "Scrivere le interrogazioni SQL che permettono di determinare"
   ]
  },
  {
   "cell_type": "markdown",
   "id": "63d0bb74",
   "metadata": {
    "vscode": {
     "languageId": "sql"
    }
   },
   "source": [
    "```sql \n",
    "SELECT DISTINCT p.CF, p.nome, p.cognome\n",
    "FROM  persona p, condominio c, proprieta pr\n",
    "WHERE p.CF = pr.CF\n",
    "  AND pr.condominio = c.codice\n",
    "  AND p.comuneResidenza='Roma'\n",
    "  AND c.comune='Milano';\n",
    "```"
   ]
  },
  {
   "cell_type": "markdown",
   "id": "a3bb144d",
   "metadata": {},
   "source": [
    "2.\tGli appartamenti del condominio ‘C01’ che hanno un unico proprietario, con indicazione di tutte le informazioni sul loro proprietario."
   ]
  },
  {
   "cell_type": "code",
   "execution_count": null,
   "id": "4594346e",
   "metadata": {},
   "outputs": [],
   "source": [
    "%%sql \n",
    "SELECT pr.condominio, pr.nroApp, p.CF, p.nome, p.cognome\n",
    "FROM proprieta pr, persona p\n",
    "WHERE pr.CF = p.CF\n",
    "  AND pr.condominio = 'C001'\n",
    "GROUP BY pr.condominio, pr.nroApp\n",
    "HAVING COUNT(pr.CF) = 1;\n",
    "\n",
    "DELETE FROM PROPRIETa\n",
    "WHERE CF = 'BNCLCU80A01F205X' AND Condominio = 'C001' AND NroApp = 1\n",
    "   OR CF = 'RSSMRA85M01H501Z' AND Condominio = 'C001' AND NroApp = 2;\n"
   ]
  },
  {
   "cell_type": "markdown",
   "id": "de1b8a73",
   "metadata": {},
   "source": [
    "\n",
    "3.\tI condomini in cui ci sono almeno 10 appartamenti ed almeno 20 proprietari distinti.\n"
   ]
  },
  {
   "cell_type": "code",
   "execution_count": null,
   "id": "57bc80b2",
   "metadata": {},
   "outputs": [],
   "source": [
    "%%sql \n",
    "SELECT pr.condominio, pr.nroApp\n",
    "FROM proprieta pr\n",
    "GROUP BY pr.condominio\n",
    "HAVING COUNT(pr.nroApp) >= 10 AND COUNT(DISTINCT pr.CF) >= 20\n"
   ]
  },
  {
   "cell_type": "markdown",
   "id": "f65cfa3c",
   "metadata": {},
   "source": [
    "4.\tPer ogni città, i condomini con almeno 10 piani situati in tale città, mantenendo nel risultato anche le città per cui non presenti condomini con almeno 10 piani"
   ]
  },
  {
   "cell_type": "code",
   "execution_count": null,
   "id": "08c82716",
   "metadata": {},
   "outputs": [],
   "source": [
    "%%sql \n",
    "SELECT p.CF, p.Cognome, p.Nome\n",
    "FROM PERSONA p,CONDOMINIO c, COMUNE com\n",
    "WHERE p.CF = c.Amministratore\n",
    "  AND c.Comune = com.Nome\n",
    "  AND COMUNE com2 ON 1=1  -- Join per ottenere il numero totale di comuni\n",
    "GROUP BY p.CF, p.Cognome, p.Nome\n",
    "HAVING COUNT(DISTINCT com.Nome) = COUNT(DISTINCT com2.Nome);\n"
   ]
  },
  {
   "cell_type": "markdown",
   "id": "787630ac",
   "metadata": {},
   "source": [
    "\n",
    "# Esercizio\n"
   ]
  },
  {
   "cell_type": "markdown",
   "id": "3dda6d8c",
   "metadata": {},
   "source": [
    "Si consideri lo schema dato per l’esercizio 1 e riportato di seguito:"
   ]
  },
  {
   "cell_type": "markdown",
   "id": "029d9381",
   "metadata": {},
   "source": [
    "\n",
    "Gara (Codice, Nome, Regione, Disciplina)\n",
    "Edizione (Gara, Categoria, Data)\n",
    "Cavaliere (IdC, Nome, Cognome, Sesso, Città, DataN)\n",
    "Appartiene (Cavaliere, Categoria)\n",
    "Partecipa (Gara, Cavaliere, Categoria, OrdineArrivo)"
   ]
  },
  {
   "cell_type": "markdown",
   "id": "f61ce12b",
   "metadata": {},
   "source": [
    "Scrivere le interrogazioni SQL che permettono di determinare :"
   ]
  },
  {
   "cell_type": "markdown",
   "id": "8378c4b1",
   "metadata": {},
   "source": [
    "1. Le gare a cui ha partecipato il maggior numero di  cavalieri, con l’indicazione della regione e della disciplina  delle gare stesse."
   ]
  },
  {
   "cell_type": "code",
   "execution_count": null,
   "id": "efecb035",
   "metadata": {},
   "outputs": [],
   "source": [
    "%%sql \n",
    "CREATE VIEW NUMC(G,N) AS\n",
    "SELECT GARA, COUNT(*) AS N\n",
    "FROM PARTECIPA\n",
    "GROUP BY GARA;\n",
    "\n",
    "SELECT GARA, REGIONE, DISCIPLINA\n",
    "FROM GARA, NUMC\n",
    "WHERE G = CODICE AND N>=(SELECT MAX(N)\n",
    "                         FROM NUMC);\n"
   ]
  },
  {
   "cell_type": "markdown",
   "id": "0c55bc37",
   "metadata": {},
   "source": [
    "2. I cavalieri che hanno partecipato ad almeno 10 gare della regione Toscana e che appartengono ad almeno 3 categorie diverse."
   ]
  },
  {
   "cell_type": "code",
   "execution_count": null,
   "id": "fabdaab5",
   "metadata": {},
   "outputs": [],
   "source": [
    "%%sql \n",
    "SELECT CVALIERE\n",
    "FROM PARTECIPA, GARA\n",
    "WHERE gara = codice AND regione = 'Toscana'\n",
    "GROUP BY  CAVALIERE\n",
    "HAVING COUNT(*)>=10\n",
    "INTERSECT\n",
    "SELECT CVALIERE\n",
    "FROM APPARTIENE\n",
    "GROUP BY CAVALIERE\n",
    "HAVING COUNT(*) >= 3\n"
   ]
  },
  {
   "cell_type": "markdown",
   "id": "0e3189f0",
   "metadata": {},
   "source": [
    "3. Per ogni edizione di una gara della regione Toscana il numero dei cavalieri di Pescara che hanno partecipato a\n",
    "tale edizione. Se per una specifica edizione di una gara della regione Toscana non c’è nessun cavaliere di Pescara, non si vuole comunque perdere l’informazione sull’edizione."
   ]
  },
  {
   "cell_type": "code",
   "execution_count": null,
   "id": "c7c99822",
   "metadata": {},
   "outputs": [],
   "source": [
    "%%sql \n",
    "CREATE VIEW TP(G,C)\n",
    "AS SELECT gara, cavaliere\n",
    "FROM PARTECIPA, CVALIERE\n",
    "WHERE cavaliere =  Idc AND citta = 'Pescara';\n",
    "-- ho creato una tabell con colonne solo gara cavaliere che contengono le tuple di cavaliere che sono di pescara\n",
    "\n",
    "-- ora confronto TP con la tabella garaper vedere quali gare sono state svolte in toscana\n",
    "--e prendo il numero di cavalieri interessati\n",
    "SELECT codice, COUNT(C)\n",
    "FROM GARA LEFT JOIN TP\n",
    "    ON codice = G\n",
    "WHERE regione = 'Toscana'\n",
    "GROUP BY codice\n"
   ]
  },
  {
   "cell_type": "markdown",
   "id": "2bf027ef",
   "metadata": {},
   "source": [
    "4. I cavalieri che hanno partecipato a tutte le gare della regione “Toscana”."
   ]
  },
  {
   "cell_type": "code",
   "execution_count": null,
   "id": "fecc3750",
   "metadata": {},
   "outputs": [],
   "source": [
    "%%sql \n",
    "CREATE VIEW NUMT(C,N)\n",
    "AS SELECT cavaliere, COUNT(*)\n",
    "FROM PARTECIPA, GARA\n",
    "WHERE gara=codice and regione = 'Toscana';\n",
    "\n",
    "-- Seleziona i cavalieri dalla vista NUMT il cui numero di partecipazioni (N)\n",
    "-- è uguale al numero totale di gare in Toscana.\n",
    "SELECT C\n",
    "FROM NUMT\n",
    "WHERE N = (\n",
    "            -- Conta il numero totale di gare che si svolgono nella regione 'Toscana'.\n",
    "            SELECT COUNT(*)\n",
    "            FROM GARA\n",
    "            WHERE regione = 'Toscana')\n"
   ]
  },
  {
   "cell_type": "markdown",
   "id": "a337b7cf",
   "metadata": {},
   "source": [
    "5. (opzionale) Le gare a cui hanno partecipato cavalieri tutti della stessa città"
   ]
  },
  {
   "cell_type": "code",
   "execution_count": null,
   "id": "81f0cb3b",
   "metadata": {},
   "outputs": [],
   "source": [
    "%%sql \n",
    "SELECT gara\n",
    "FROM PARTCIPA, CAVALIERE\n",
    "WHERE cavaiere = idc\n",
    "GROUP BY gara\n",
    "HAVING COUNT(DISTINCT città) = 1\n"
   ]
  },
  {
   "cell_type": "markdown",
   "id": "5b638c16",
   "metadata": {},
   "source": [
    "# Appello 30-01-24"
   ]
  },
  {
   "cell_type": "markdown",
   "id": "60345e64",
   "metadata": {},
   "source": [
    "Si consideri il seguente schema di base di dati per la gestione di una catena di supermercati:"
   ]
  },
  {
   "cell_type": "markdown",
   "id": "4b4d8f8f",
   "metadata": {},
   "source": [
    "### Tabelle e Relazioni"
   ]
  },
  {
   "cell_type": "markdown",
   "id": "5a2a9b32",
   "metadata": {},
   "source": [
    "\n",
    "- **Prodotto(`CodP`, Nome, Tipologia)**\n",
    "- **Fornitore(`CodF`, Nome, Città)**\n",
    "- **Fornitura(`Fornitore, Prodotto`, PrezzoUnitario)**\n",
    "- **Spedizione(`CodS`, Data, CittàPart, CittàArr)**\n",
    "- **DettaglioSped(`Spedizione, Fornitore, Prodotto`, Quantità)**\n"
   ]
  },
  {
   "cell_type": "markdown",
   "id": "5f36fb45",
   "metadata": {},
   "source": [
    "### Requisiti delle interrogazioni"
   ]
  },
  {
   "cell_type": "markdown",
   "id": "98413119",
   "metadata": {},
   "source": [
    "Assumendo che la base di dati non contenga attributi con valori nulli (tranne dove indicato), scrivere le interrogazioni SQL per determinare quanto segue:"
   ]
  },
  {
   "cell_type": "markdown",
   "id": "6353bb55",
   "metadata": {},
   "source": [
    "1. **Per ogni fornitore di Pescara, la quantità totale di suoi prodotti nelle spedizioni che partono da Roma.**\n"
   ]
  },
  {
   "cell_type": "code",
   "execution_count": null,
   "id": "46040d49",
   "metadata": {},
   "outputs": [],
   "source": [
    "%%sql \n",
    "SELECT fornitore, SUM(quantità)\n",
    "FROM FORNITORE, DETTAGLIOSPED D,SPEDIZIONE S,\n",
    "WHERE codF = d.fornitore AND città = 'Pescara'\n",
    "        AND s.codS = d.spedizione AND città = 'Roma'\n",
    "GROUP BY fornitore  --quando ci sta 'per ogni' di solito\n"
   ]
  },
  {
   "cell_type": "markdown",
   "id": "0c01efa6",
   "metadata": {},
   "source": [
    "2. **Tutte le informazioni sulle spedizioni in cui non compaiono (nel dettaglio della spedizione) fornitori di Roma.**"
   ]
  },
  {
   "cell_type": "code",
   "execution_count": null,
   "id": "31f61a85",
   "metadata": {},
   "outputs": [],
   "source": [
    "%%sql \n",
    "SELECT *\n",
    "FROM SPEDIZIONE\n",
    "WHERE  cosS NOT IN (SELECT spedizione\n",
    "                    FROM DETTAGLIOSPED, FORNITORE\n",
    "                    WHERE fornitore=codF AND città='Roma')\n"
   ]
  },
  {
   "cell_type": "markdown",
   "id": "1c9e0d6f",
   "metadata": {},
   "source": [
    "3. **Le spedizioni per cui ci sono almeno 2 prodotti diversi di uno stesso fornitore.**"
   ]
  },
  {
   "cell_type": "code",
   "execution_count": null,
   "id": "ce2882ab",
   "metadata": {},
   "outputs": [],
   "source": [
    "%%sql \n",
    "SELECT spedizione\n",
    "FROM DETTAGLIOSPED\n",
    "GROUP BY spedizione, fornitore\n",
    "HAVING COUNT(*) >= 2\n"
   ]
  },
  {
   "cell_type": "markdown",
   "id": "847f495f",
   "metadata": {},
   "source": [
    "4. **Per ogni spedizione, il prodotto che è presente nella spedizione stessa, in quantità massima.**"
   ]
  },
  {
   "cell_type": "code",
   "execution_count": null,
   "id": "52c220d0",
   "metadata": {},
   "outputs": [],
   "source": [
    "%%sql \n",
    "SELECT spedizione, prodotto\n",
    "FROM DETTAGLIOSPED D1\n",
    "WHERE quantità = (SELECT MAX(d2.quantità)\n",
    "                    FROM DETTAGLISPED d2\n",
    "                    WHERE d1.spedizione = d2.spedizione)"
   ]
  },
  {
   "cell_type": "markdown",
   "id": "3eedcad2",
   "metadata": {},
   "source": [
    "----"
   ]
  },
  {
   "cell_type": "markdown",
   "id": "62c4772a",
   "metadata": {},
   "source": [
    "CORSO (CodCorso, NomeC, Anno, Semestre)\n",
    "ORARIO-LEZIONI (CodCorso, GiornoSettimana, OraInizio, OraFine, Aula)"
   ]
  },
  {
   "cell_type": "markdown",
   "id": "d9331b20",
   "metadata": {},
   "source": [
    "1. Trovare le aule in cui non si tengono mai lezioni di corsi del primo anno."
   ]
  },
  {
   "cell_type": "code",
   "execution_count": null,
   "id": "fe876718",
   "metadata": {},
   "outputs": [],
   "source": [
    "%%sql \n",
    "SELECT DISTINCT aula\n",
    "FROM ORARIO_LEZIONI\n",
    "WHERE aula NOT IN ( SELECT aula\n",
    "                    FROM ORARIO_LEZIONI ol, corso c,\n",
    "                    WHERE ol.codCorso=c.codCorso\n",
    "                    AND c.anno = 1)\n"
   ]
  },
  {
   "cell_type": "markdown",
   "id": "2d50009e",
   "metadata": {},
   "source": [
    "un'altra versione"
   ]
  },
  {
   "cell_type": "code",
   "execution_count": null,
   "id": "7a6290d2",
   "metadata": {},
   "outputs": [],
   "source": [
    "%%sql \n",
    "SELECT DISTINCT auala\n",
    "FROM ORARIO_LEZIONI ol1\n",
    "WHERE NOT EXISTS (  SELECT *\n",
    "                    FROM ORARIO_LEZIONI ol2, CORSO c\n",
    "                    WHERE ol2.codCorso = c.codCorso\n",
    "                    AND c.anno = 1\n",
    "                    AND ol2.aula = ol1.auala)\n"
   ]
  },
  {
   "cell_type": "markdown",
   "id": "b1de8029",
   "metadata": {},
   "source": [
    "2. Trovare codice corso, nome corso e numero totale di ore di lezione settimanali per i corsi del terzo anno per cui il numero complessivo di ore di lezione settimanali é superiore a 10 e le lezioni sono in più di tre giorni diversi della settimana."
   ]
  },
  {
   "cell_type": "code",
   "execution_count": null,
   "id": "5046914c",
   "metadata": {},
   "outputs": [],
   "source": [
    "%%sql \n",
    "SELECT c.codCorso, nomeC, SUM(oraFine - OraInizio)\n",
    "FROM  CORSO c, ORARIO_LEZIONI ol\n",
    "AND c.anno = 3\n",
    "GROUP BY c.codCorso, c.nomeC\n",
    "HAVING SUM(oraFine-oraInizio)> 10\n",
    "AND COUNT(DISTINCT giornoSettimana) > 3;\n"
   ]
  },
  {
   "cell_type": "markdown",
   "id": "8ad10462",
   "metadata": {},
   "source": [
    "------------------"
   ]
  },
  {
   "cell_type": "markdown",
   "id": "7ef9a930",
   "metadata": {},
   "source": [
    "ALLOGGIO (CodA, Indirizzo, Città, Superficie, CostoAffittoMensile)\n",
    "CONTRATTO-AFFITTO (CodC, DataInizio, DataFine, NomePersona, CodA)"
   ]
  },
  {
   "cell_type": "markdown",
   "id": "8dab2331",
   "metadata": {},
   "source": [
    "3. N.B. Superficie espressa in metri quadri. Per i contratti in corso, DataFine é NULL.\n",
    "Trovare, per le città in cui sono stati stipulati almeno 100 contratti, la città, il costo mensile massimo degli affitti, il costo mensile medio degli affitti, la durata massima dei contratti, la durata media dei contratti e il numero totale di contratti stipulati"
   ]
  },
  {
   "cell_type": "code",
   "execution_count": null,
   "id": "6d2bf0c3",
   "metadata": {},
   "outputs": [],
   "source": [
    "%%sql \n",
    "SELECT città, MAX(costoAffittoMensile), AVG(costoAffittoMensile),\n",
    "       AVG(dataFine - dataInzio), MAX(dataFine - dataInzio), COUNT(*)\n",
    "FROM ALLOGGGIO a, CONTRATTO_AFFITTO c,\n",
    "WHERE a.codA = c.codA\n",
    "GROUP BY città\n",
    "HAVING COUNT(+)>=100;\n"
   ]
  },
  {
   "cell_type": "markdown",
   "id": "7f369f01",
   "metadata": {},
   "source": [
    "------------------"
   ]
  },
  {
   "cell_type": "markdown",
   "id": "f4d8d3d4",
   "metadata": {},
   "source": [
    "4. N.B. Superficie espressa in metri quadri. Per i contratti in corso, DataFine é NULL.\n",
    "Trovare il nome delle persone che non hanno mai affittato alloggi con superficie superiore a 80\n",
    "metri quadri."
   ]
  },
  {
   "cell_type": "code",
   "execution_count": null,
   "id": "9ff07fda",
   "metadata": {},
   "outputs": [],
   "source": [
    "%%sql \n",
    "SELECT DISTINCT nomePersona\n",
    "FROM CONTRATTO_AFFITTO\n",
    "WHERE nomePersona NOT IN (\n",
    "                          SELECT nomPersona\n",
    "                          FROM CONTRATTO_AFFITTO c, ALLOGGIO a\n",
    "                          WHERE c.codA = a.codA\n",
    "                          AND superficie>80\n",
    "                          );\n"
   ]
  },
  {
   "cell_type": "markdown",
   "id": "8be6da8c",
   "metadata": {},
   "source": [
    "------------------"
   ]
  },
  {
   "cell_type": "markdown",
   "id": "db6e64a0",
   "metadata": {},
   "source": [
    "AEREI (Matr, Modello, NumPosti)\n",
    "ORARIO (Sigla, ParteDa, Destinaz, OraPart, OraArr)\n",
    "VOLI(sigla, matr, data, postiPren)"
   ]
  },
  {
   "cell_type": "markdown",
   "id": "aaf2d27c",
   "metadata": {},
   "source": [
    "5. Trovare la sigla e l'ora di partenza dei voli in partenza da Milano per Napoli il 1 ottobre 1993, che\n",
    "dispongono ancora di posti liberi la cui durata (di partenza tra l'ora di arrivo e l'ora di partenza) sia\n",
    "inferiore alla durata media dei voli da Milano a Napoli."
   ]
  },
  {
   "cell_type": "code",
   "execution_count": null,
   "id": "743986f3",
   "metadata": {},
   "outputs": [],
   "source": [
    "%%sql \n",
    "SELECT sigla, oraPart\n",
    "FROM VOLI v, ORARIO o\n",
    "WHERE v.sigla = o.sigla\n",
    "    AND o.parteDa = 'Milano'\n",
    "    AND o.Destinaz= 'Napoli'\n",
    "    AND v.data = '1/10/1993'\n",
    "    AND a.numPosti > v.postiPren\n",
    "    AND (o.oraArr -o.oraPart) < SELECT AVG(oraArr - oraPart)\n",
    "                                FROM VOLI v2, ORARIO o2\n",
    "                                WHERE v2.sigla = o2.sigla\n",
    "                                    AND o2.parteDa='Milano'\n",
    "                                    AND o2.Destinaz='Napoli'\n"
   ]
  },
  {
   "cell_type": "markdown",
   "id": "705e8037",
   "metadata": {},
   "source": [
    "------------------"
   ]
  },
  {
   "cell_type": "markdown",
   "id": "e183db6e",
   "metadata": {},
   "source": [
    "ORCHESTRA(CodO, NomeO, NomrDirettore, numElementi)\n",
    "CONCERTI(CodC, Data, CodO, CodS, PrezzoBiglietto)\n",
    "SALE(CodS, NomeS, Città, Capienza)"
   ]
  },
  {
   "cell_type": "markdown",
   "id": "32358798",
   "metadata": {},
   "source": [
    "6. Trovare il codice e il nome delle orchestre con più di 30 elementi che hanno tenuto concerti sia a\n",
    "Torino, sia a Milano e non hanno mai tenuto concerti a Bologna."
   ]
  },
  {
   "cell_type": "code",
   "execution_count": null,
   "id": "2608f6de",
   "metadata": {},
   "outputs": [],
   "source": [
    "%%sql \n",
    "SELECT c.agenzia\n",
    "FROM CONTO c, CONTO_CLIENTE cl\n",
    "WHERE c.cod_conto = cl.cod_conto\n",
    "    AND NOT EXISTS\n",
    "        (SELECT * FROM CONTO_CLIENTE cl2\n",
    "         WHERE cl2.cod_conto = cl.cod_conto\n",
    "            AND cl2.cod_Cli <> cl.cod_cli)\n",
    "    AND NOT EXISTS\n",
    "        (SELECT * FROM CONTO_CLIENTE cl3\n",
    "         WHERE cl3.cod_cli = cl.cod_cli\n",
    "            AND cl3.cod_conto <> cl.cod_conto)\n"
   ]
  },
  {
   "cell_type": "markdown",
   "id": "74ef16f7",
   "metadata": {},
   "source": [
    "---"
   ]
  },
  {
   "cell_type": "markdown",
   "id": "fa1a1e60",
   "metadata": {},
   "source": [
    "CONTRIBUENTE(CodFiscale, Nome, Via, Citt_ a)\n",
    "DICHIARAZIONE(CodDichiarazione, Tipo, Reddito)\n",
    "PRESENTA(CodFiscale, CodDichiarazione, Data)"
   ]
  },
  {
   "cell_type": "markdown",
   "id": "9f1f2fa8",
   "metadata": {},
   "source": [
    "\n",
    "8. Visualizzare codice, nome e media dei redditi dichiarati dal 1990 in poi per i contribuenti tali che il\n",
    "massimo reddito da loro dichiarato dal 1990 in poi sia superiore alla media dei redditi calcolata su\n",
    "tutte le dichiarazioni nel database.\n",
    "\n"
   ]
  },
  {
   "cell_type": "code",
   "execution_count": null,
   "id": "d02a5636",
   "metadata": {},
   "outputs": [],
   "source": []
  },
  {
   "cell_type": "markdown",
   "metadata": {},
   "source": [
    "---"
   ]
  },
  {
   "cell_type": "markdown",
   "id": "ac70e382",
   "metadata": {},
   "source": [
    "PERSONA(Nome, Sesso, Età)\n",
    "GENITORE(Nome-Gen, Nome-Figlio)"
   ]
  },
  {
   "cell_type": "markdown",
   "id": "a7c38f0d",
   "metadata": {},
   "source": [
    "\n",
    "9. Trovare il nome di tutte le persone con età a inferiore a 10 anni che sono figli unici.\n",
    "\n",
    "\n"
   ]
  }
 ],
 "metadata": {
  "kernelspec": {
   "display_name": "Python 3",
   "language": "python",
   "name": "python3"
  },
  "language_info": {
   "codemirror_mode": {
    "name": "ipython",
    "version": 3
   },
   "file_extension": ".py",
   "mimetype": "text/x-python",
   "name": "python",
   "nbconvert_exporter": "python",
   "pygments_lexer": "ipython3",
   "version": "3.12.6"
  }
 },
 "nbformat": 4,
 "nbformat_minor": 5
}

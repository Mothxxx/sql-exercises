{
 "cells": [
  {
   "cell_type": "markdown",
   "metadata": {},
   "source": [
    "Esercizio (1.a).  \n",
    "\n",
    "CORSO (CodCorso, NomeC, Anno, Semestre)  \n",
    "ORARIO ORARIO-LEZIONI (CodCorso, GiornoSettimana, OraInizio, OraFine, Aula)  \n",
    "\n",
    "Trovare le aule in cui non si tengono mai lezioni di corsi del primo anno."
   ]
  },
  {
   "cell_type": "code",
   "execution_count": null,
   "metadata": {
    "vscode": {
     "languageId": "sql"
    }
   },
   "outputs": [],
   "source": [
    "SELECT DISTINCT Aula \n",
    "FROM ORARIO_LEZIONI\n",
    "WHERE Aula NOT IN\n",
    "(SELECT Aula FROM ORARIO_LEZIONI OL, CORSO C\n",
    "WHERE OL.CodCorso = C.CodCorso\n",
    "AND C.Anno = 1)"
   ]
  },
  {
   "cell_type": "markdown",
   "metadata": {},
   "source": []
  },
  {
   "cell_type": "markdown",
   "metadata": {},
   "source": [
    "DISTINCT viene utilizzata per rimuovere i duplicati dai risultati di una query e restituire solo righe uniche.  \n",
    "È utile quando si desidera ottenere un insieme di valori distinti in una colonna o una combinazione di colonne."
   ]
  }
 ],
 "metadata": {
  "kernelspec": {
   "display_name": "Python 3",
   "language": "python",
   "name": "python3"
  },
  "language_info": {
   "codemirror_mode": {
    "name": "ipython",
    "version": 3
   },
   "file_extension": ".py",
   "mimetype": "text/x-python",
   "name": "python",
   "nbconvert_exporter": "python",
   "pygments_lexer": "ipython3",
   "version": "3.12.6"
  }
 },
 "nbformat": 4,
 "nbformat_minor": 4
}
